{
 "metadata": {
  "kernelspec": {
   "codemirror_mode": {
    "name": "python",
    "version": 2
   },
   "display_name": "Python 2",
   "language": "python",
   "name": "python2"
  },
  "name": "",
  "signature": "sha256:71cc5798b7aa793a61697aec568d97eca7a52a1987202418cc2019f8f3d15b1d"
 },
 "nbformat": 3,
 "nbformat_minor": 0,
 "worksheets": [
  {
   "cells": [
    {
     "cell_type": "heading",
     "level": 1,
     "metadata": {},
     "source": [
      "NbConvert"
     ]
    },
    {
     "cell_type": "heading",
     "level": 2,
     "metadata": {},
     "source": [
      "Command line usage"
     ]
    },
    {
     "cell_type": "markdown",
     "metadata": {},
     "source": [
      "`NbConvert` is the library and command line tool that allows conversion from `ipynb` notebook to other formats.\n",
      "It ships with several built-in formats : `html`, `latex`, `markdown`, `python`, `rst` and  `slides`, which are all based on the Jinja templating engine, so writing a converter for your custom format or tweeking an existing one should be relatively simple."
     ]
    },
    {
     "cell_type": "markdown",
     "metadata": {},
     "source": [
      "You can invoke nbconvert by doing\n",
      "\n",
      "```bash\n",
      "$ ipython nbconvert <options and arguments>\n",
      "```\n",
      "\n",
      "Call `ipython nbconvert` with the `--help` flag or no aruments to get basic help on how to use it.\n",
      "For more information about configuration use the `--help-all` flag"
     ]
    },
    {
     "cell_type": "heading",
     "level": 3,
     "metadata": {},
     "source": [
      "Basic export"
     ]
    },
    {
     "cell_type": "markdown",
     "metadata": {},
     "source": [
      "We will be converting `Custom Display Logic.ipynb`. \n",
      "\n",
      "`NbConvert` **does not execute the code** in the notebook, so output (results of code cells, matplotlib plots, etc) will only be present if the notebook has already been run."
     ]
    },
    {
     "cell_type": "code",
     "collapsed": false,
     "input": [
      "%%bash\n",
      "ipython nbconvert  '04 - Custom Display Logic.ipynb'"
     ],
     "language": "python",
     "metadata": {},
     "outputs": [
      {
       "output_type": "stream",
       "stream": "stderr",
       "text": [
        "[NbConvertApp] Using existing profile dir: u'/Users/bussonniermatthias/.ipython/profile_default'\n",
        "[NbConvertApp] Converting notebook 04 - Custom Display Logic.ipynb to html\n",
        "[NbConvertApp] Support files will be in 04 - Custom Display Logic_files/\n",
        "[NbConvertApp] Loaded template html_full.tpl\n",
        "[NbConvertApp] Writing 221081 bytes to 04 - Custom Display Logic.html\n"
       ]
      }
     ],
     "prompt_number": 1
    },
    {
     "cell_type": "markdown",
     "metadata": {},
     "source": [
      "`Html` is the default output format (this can be configured), so the command above is equivalent to:"
     ]
    },
    {
     "cell_type": "code",
     "collapsed": false,
     "input": [
      "%%bash\n",
      "ipython nbconvert  --to=html '04 - Custom Display Logic.ipynb'"
     ],
     "language": "python",
     "metadata": {},
     "outputs": [
      {
       "output_type": "stream",
       "stream": "stderr",
       "text": [
        "[NbConvertApp] Using existing profile dir: u'/Users/bussonniermatthias/.ipython/profile_default'\n",
        "[NbConvertApp] Converting notebook 04 - Custom Display Logic.ipynb to html\n",
        "[NbConvertApp] Support files will be in 04 - Custom Display Logic_files/\n",
        "[NbConvertApp] Loaded template html_full.tpl\n",
        "[NbConvertApp] Writing 221081 bytes to 04 - Custom Display Logic.html\n"
       ]
      }
     ],
     "prompt_number": 2
    },
    {
     "cell_type": "markdown",
     "metadata": {},
     "source": [
      "You can also convert to `LaTeX`. This will generate a `.tex` file containing all the text content of the notebook, and a `<name>_files` directory containing images; PNG images embedded in the notebook are simply saved to files, and `nbconvert` will attempt to convert any SVG images to PDF using `inkscape`, if available."
     ]
    },
    {
     "cell_type": "code",
     "collapsed": false,
     "input": [
      "%%bash\n",
      "ipython nbconvert  --to=latex '04 - Custom Display Logic.ipynb'"
     ],
     "language": "python",
     "metadata": {},
     "outputs": [
      {
       "output_type": "stream",
       "stream": "stderr",
       "text": [
        "[NbConvertApp] Using existing profile dir: u'/Users/bussonniermatthias/.ipython/profile_default'\n",
        "[NbConvertApp] Converting notebook 04 - Custom Display Logic.ipynb to latex\n",
        "[NbConvertApp] Support files will be in 04 - Custom Display Logic_files/\n",
        "Setting Language: .UTF-8\n",
        "\n",
        "(process:26432): Gtk-WARNING **: Locale not supported by C library.\n",
        "\tUsing the fallback 'C' locale.\n",
        "Setting Language: .UTF-8\n",
        "\n",
        "(process:26472): Gtk-WARNING **: Locale not supported by C library.\n",
        "\tUsing the fallback 'C' locale.\n",
        "Setting Language: .UTF-8\n",
        "\n",
        "(process:26512): Gtk-WARNING **: Locale not supported by C library.\n",
        "\tUsing the fallback 'C' locale.\n",
        "Setting Language: .UTF-8\n",
        "\n",
        "(process:26552): Gtk-WARNING **: Locale not supported by C library.\n",
        "\tUsing the fallback 'C' locale.\n",
        "Setting Language: .UTF-8\n",
        "\n",
        "(process:26592): Gtk-WARNING **: Locale not supported by C library.\n",
        "\tUsing the fallback 'C' locale.\n",
        "[NbConvertApp] Loaded template latex_article.tplx\n",
        "[NbConvertApp] Writing 41196 bytes to 04 - Custom Display Logic.tex\n"
       ]
      }
     ],
     "prompt_number": 3
    },
    {
     "cell_type": "markdown",
     "metadata": {},
     "source": [
      "You should just have to compile the generated `.tex` file. If the required packages are installed, it should compile \"out of the box\".\n",
      "\n",
      "For convenience, `nbconvert` can run extra actions after the conversion has been done. For `LaTeX` there is a `pdf` post-processor which will run (by default) `pdflatex` on the `.tex` file. \n",
      "\n",
      "You can define the postprocessor to run with the `--post` flag."
     ]
    },
    {
     "cell_type": "code",
     "collapsed": false,
     "input": [
      "%%bash\n",
      "ipython nbconvert  --to=latex '04 - Custom Display Logic.ipynb' --post=pdf"
     ],
     "language": "python",
     "metadata": {},
     "outputs": [
      {
       "output_type": "stream",
       "stream": "stderr",
       "text": [
        "[NbConvertApp] Using existing profile dir: u'/Users/bussonniermatthias/.ipython/profile_default'\n",
        "[NbConvertApp] Converting notebook 04 - Custom Display Logic.ipynb to latex\n",
        "[NbConvertApp] Support files will be in 04 - Custom Display Logic_files/\n",
        "Setting Language: .UTF-8\n",
        "\n",
        "(process:26658): Gtk-WARNING **: Locale not supported by C library.\n",
        "\tUsing the fallback 'C' locale.\n",
        "Setting Language: .UTF-8\n",
        "\n",
        "(process:26698): Gtk-WARNING **: Locale not supported by C library.\n",
        "\tUsing the fallback 'C' locale.\n",
        "Setting Language: .UTF-8\n",
        "\n",
        "(process:26738): Gtk-WARNING **: Locale not supported by C library.\n",
        "\tUsing the fallback 'C' locale.\n",
        "Setting Language: .UTF-8\n",
        "\n",
        "(process:26778): Gtk-WARNING **: Locale not supported by C library.\n",
        "\tUsing the fallback 'C' locale.\n",
        "Setting Language: .UTF-8\n",
        "\n",
        "(process:26818): Gtk-WARNING **: Locale not supported by C library.\n",
        "\tUsing the fallback 'C' locale.\n",
        "[NbConvertApp] Loaded template latex_article.tplx\n",
        "[NbConvertApp] Writing 41196 bytes to 04 - Custom Display Logic.tex\n",
        "[NbConvertApp] Building PDF: ['pdflatex', '04 - Custom Display Logic.tex']\n"
       ]
      }
     ],
     "prompt_number": 4
    },
    {
     "cell_type": "markdown",
     "metadata": {},
     "source": [
      "Examining `04 - Custom Display Logic.pdf` will show that, towards the end, where we compared `display()`, `display_html()` and returning the object from the cell, there is no output displayed for the `display_html()` case. This is because there is no (general) conversion available from HTML to LaTeX."
     ]
    },
    {
     "cell_type": "heading",
     "level": 3,
     "metadata": {},
     "source": [
      "Customizing the template"
     ]
    },
    {
     "cell_type": "markdown",
     "metadata": {},
     "source": [
      "The `python` export format produces a runnable python script from the notebook, with notebook structure and output reduced to comments.\n",
      "\n",
      "Let's look at the first 20 lines produced by the `python` exporter:"
     ]
    },
    {
     "cell_type": "code",
     "collapsed": false,
     "input": [
      "pyfile = !ipython nbconvert --to python '04 - Custom Display Logic.ipynb' --stdout\n",
      "for l in pyfile[20:40]:\n",
      "    print l"
     ],
     "language": "python",
     "metadata": {},
     "outputs": [
      {
       "output_type": "stream",
       "stream": "stdout",
       "text": [
        "# 1. Implementing special display methods such as `_repr_html_`.\n",
        "# 2. Registering a display function for a particular type.\n",
        "# \n",
        "# In this Notebook we show how both approaches work.\n",
        "\n",
        "# Before we get started, we will import the various display functions for displaying the different formats we will create.\n",
        "\n",
        "# In[54]:\n",
        "\n",
        "from IPython.display import display\n",
        "from IPython.display import (\n",
        "    display_html, display_jpeg, display_png,\n",
        "    display_javascript, display_svg, display_latex\n",
        ")\n",
        "\n",
        "\n",
        "### Implementing special display methods\n",
        "\n",
        "# The main idea of the first approach is that you have to implement special display methods, one for each representation you want to use. Here is a list of the names of the special methods and the values they must return:\n",
        "# \n"
       ]
      }
     ],
     "prompt_number": 5
    },
    {
     "cell_type": "markdown",
     "metadata": {},
     "source": [
      "We see that the non-code cells are exported to the file as comments. To have a cleaner script, we will export only the code contained in the code cells, and discard the rest.\n",
      "\n",
      "To do so, we will inherit the python template, and overwrite the markdown blocks to be empty."
     ]
    },
    {
     "cell_type": "code",
     "collapsed": false,
     "input": [
      "%%writefile simplepython.tpl\n",
      "{% extends 'python.tpl'%}\n",
      "\n",
      "{% block markdowncell -%}\n",
      "{% endblock markdowncell %}\n",
      "\n",
      "## we also want to get rig of header cell\n",
      "{% block headingcell -%}\n",
      "{% endblock headingcell %}\n",
      "\n",
      "## and let's change the appearance of input prompt\n",
      "{% block in_prompt %}\n",
      "# This was input cell with prompt number : {{ cell.prompt_number if cell.prompt_number else ' ' }}\n",
      "{%- endblock in_prompt %}"
     ],
     "language": "python",
     "metadata": {},
     "outputs": [
      {
       "output_type": "stream",
       "stream": "stdout",
       "text": [
        "Overwriting simplepython.tpl\n"
       ]
      }
     ],
     "prompt_number": 6
    },
    {
     "cell_type": "code",
     "collapsed": false,
     "input": [
      "pyfile = !ipython nbconvert --to python '04 - Custom Display Logic.ipynb' --stdout --template=simplepython.tpl\n",
      "\n",
      "for l in pyfile[4:40]:\n",
      "    print l\n",
      "print '...'"
     ],
     "language": "python",
     "metadata": {},
     "outputs": [
      {
       "output_type": "stream",
       "stream": "stdout",
       "text": [
        "\n",
        "# This was input cell with prompt number : 54\n",
        "from IPython.display import display\n",
        "from IPython.display import (\n",
        "    display_html, display_jpeg, display_png,\n",
        "    display_javascript, display_svg, display_latex\n",
        ")\n",
        "\n",
        "\n",
        "# This was input cell with prompt number : 55\n",
        "get_ipython().magic(u'load soln/mycircle.py')\n",
        "\n",
        "\n",
        "# This was input cell with prompt number : 56\n",
        "class MyCircle(object):\n",
        "    \n",
        "    def _repr_html_(self):\n",
        "        return \"&#x25CB; (<b>html</b>)\"\n",
        "\n",
        "    def _repr_svg_(self):\n",
        "        return \"\"\"<svg width='100px' height='100px'>\n",
        "           <circle cx=\"50\" cy=\"50\" r=\"20\" stroke=\"black\" stroke-width=\"1\" fill=\"blue\"/>\n",
        "        </svg>\"\"\"\n",
        "    \n",
        "    def _repr_latex_(self):\n",
        "        return r\"$\\bigcirc \\LaTeX$\"\n",
        "\n",
        "    def _repr_javascript_(self):\n",
        "        return \"alert('I am a circle!');\"\n",
        "\n",
        "\n",
        "# This was input cell with prompt number : 57\n",
        "c = MyCircle()\n",
        "\n",
        "\n",
        "# This was input cell with prompt number : 58\n",
        "...\n"
       ]
      }
     ],
     "prompt_number": 7
    },
    {
     "cell_type": "markdown",
     "metadata": {},
     "source": [
      "I'll let you read the [Jinja manual](http://jinja.pocoo.org/) for the exact syntax of the template."
     ]
    },
    {
     "cell_type": "heading",
     "level": 2,
     "metadata": {},
     "source": [
      "Templates that use cell's metadata"
     ]
    },
    {
     "cell_type": "markdown",
     "metadata": {},
     "source": [
      "The Notebook file format supports attaching arbitrary JSON metadata to each cell of a notebook. In this part we will use that metadata."
     ]
    },
    {
     "cell_type": "markdown",
     "metadata": {},
     "source": [
      "First you need to choose another notebook you want to convert to html, and tag some of the cells with metadata.\n",
      "You can see the file `soln/celldiff.js` for a solution on how to tag, or follow the javascript tutorial to see how to do that. Use what we have written there to tag cells of some notebooks to `Easy`|`Medium`|`Hard`|`<None>`, and convert this notebook using your template."
     ]
    },
    {
     "cell_type": "markdown",
     "metadata": {},
     "source": [
      "You might need the following : \n",
      "```\n",
      "{% extends 'html_full.tpl'%}\n",
      "{% block any_cell %}\n",
      "{{ super() }}\n",
      "<div style=\"background-color:red\">\n",
      "<div style='background-color:orange'>\n",
      "```\n",
      "\n",
      "`metadata` might not exist, be sure to :\n",
      "\n",
      "`cell['metadata'].get('example',{}).get('difficulty','')`\n",
      "\n",
      "tip: use `%%writefile` to edit the template in the notebook :-)"
     ]
    },
    {
     "cell_type": "code",
     "collapsed": false,
     "input": [
      "%%bash\n",
      "# ipython nbconvert --to html <your chosen notebook.ipynb> --template=<your template file>"
     ],
     "language": "python",
     "metadata": {},
     "outputs": [],
     "prompt_number": 8
    },
    {
     "cell_type": "code",
     "collapsed": false,
     "input": [
      "%loadpy soln/coloreddiff.tpl"
     ],
     "language": "python",
     "metadata": {},
     "outputs": []
    },
    {
     "cell_type": "code",
     "collapsed": false,
     "input": [
      "# ipython nbconvert --to html '04 - Custom Display Logic.ipynb' --template=soln/coloreddiff.tpl"
     ],
     "language": "python",
     "metadata": {},
     "outputs": []
    },
    {
     "cell_type": "heading",
     "level": 3,
     "metadata": {},
     "source": [
      "Get rid of all command line flags."
     ]
    },
    {
     "cell_type": "markdown",
     "metadata": {},
     "source": [
      "All of IPython `nbconvert` can be configured using profiles and passing the `--profile` flag. \n",
      "Moreover, if a `config.py` file exists in the current working directory `nbconvert` will use that, or you can set a config file with the `--config=<file>` flag. \n",
      "\n",
      "In the end, if you are often running `nbconvert` on the same project, `$ ipython nbconvert` should be enough to get you up and ready."
     ]
    },
    {
     "cell_type": "markdown",
     "metadata": {},
     "source": []
    }
   ],
   "metadata": {}
  }
 ]
}